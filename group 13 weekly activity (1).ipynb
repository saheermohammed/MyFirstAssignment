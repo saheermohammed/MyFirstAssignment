{
 "cells": [
  {
   "cell_type": "code",
   "execution_count": 1,
   "id": "18ece8b4",
   "metadata": {},
   "outputs": [],
   "source": [
    "import pandas as pd\n",
    "import numpy as np\n",
    "import matplotlib.pyplot as plt\n",
    "import seaborn as sns"
   ]
  },
  {
   "cell_type": "code",
   "execution_count": 2,
   "id": "cf806685",
   "metadata": {},
   "outputs": [],
   "source": [
    "data=pd.read_excel(r'C:\\Users\\saheer\\Downloads\\Dataset_w6.xlsx')"
   ]
  },
  {
   "cell_type": "code",
   "execution_count": 3,
   "id": "c2342598",
   "metadata": {},
   "outputs": [
    {
     "data": {
      "text/html": [
       "<div>\n",
       "<style scoped>\n",
       "    .dataframe tbody tr th:only-of-type {\n",
       "        vertical-align: middle;\n",
       "    }\n",
       "\n",
       "    .dataframe tbody tr th {\n",
       "        vertical-align: top;\n",
       "    }\n",
       "\n",
       "    .dataframe thead th {\n",
       "        text-align: right;\n",
       "    }\n",
       "</style>\n",
       "<table border=\"1\" class=\"dataframe\">\n",
       "  <thead>\n",
       "    <tr style=\"text-align: right;\">\n",
       "      <th></th>\n",
       "      <th>country</th>\n",
       "      <th>Region</th>\n",
       "      <th>Surface area (km2)</th>\n",
       "      <th>Population in thousands (2017)</th>\n",
       "      <th>GDP per capita (current US$)</th>\n",
       "      <th>Agricultural production index</th>\n",
       "      <th>International trade: Imports (million US$)</th>\n",
       "    </tr>\n",
       "  </thead>\n",
       "  <tbody>\n",
       "    <tr>\n",
       "      <th>0</th>\n",
       "      <td>Afghanistan</td>\n",
       "      <td>SouthernAsia</td>\n",
       "      <td>652864</td>\n",
       "      <td>35530</td>\n",
       "      <td>623.2</td>\n",
       "      <td>125</td>\n",
       "      <td>3568</td>\n",
       "    </tr>\n",
       "    <tr>\n",
       "      <th>1</th>\n",
       "      <td>Albania</td>\n",
       "      <td>SouthernEurope</td>\n",
       "      <td>28748</td>\n",
       "      <td>2930</td>\n",
       "      <td>3984.2</td>\n",
       "      <td>134</td>\n",
       "      <td>4669</td>\n",
       "    </tr>\n",
       "    <tr>\n",
       "      <th>2</th>\n",
       "      <td>Algeria</td>\n",
       "      <td>NorthernAfrica</td>\n",
       "      <td>2381741</td>\n",
       "      <td>41318</td>\n",
       "      <td>4154.1</td>\n",
       "      <td>160</td>\n",
       "      <td>47091</td>\n",
       "    </tr>\n",
       "    <tr>\n",
       "      <th>3</th>\n",
       "      <td>Angola</td>\n",
       "      <td>MiddleAfrica</td>\n",
       "      <td>1246700</td>\n",
       "      <td>29784</td>\n",
       "      <td>4714.1</td>\n",
       "      <td>175</td>\n",
       "      <td>8790</td>\n",
       "    </tr>\n",
       "    <tr>\n",
       "      <th>4</th>\n",
       "      <td>Antigua and Barbuda</td>\n",
       "      <td>Caribbean</td>\n",
       "      <td>442</td>\n",
       "      <td>102</td>\n",
       "      <td>14764.5</td>\n",
       "      <td>88</td>\n",
       "      <td>491</td>\n",
       "    </tr>\n",
       "    <tr>\n",
       "      <th>...</th>\n",
       "      <td>...</td>\n",
       "      <td>...</td>\n",
       "      <td>...</td>\n",
       "      <td>...</td>\n",
       "      <td>...</td>\n",
       "      <td>...</td>\n",
       "      <td>...</td>\n",
       "    </tr>\n",
       "    <tr>\n",
       "      <th>191</th>\n",
       "      <td>Venezuela (Bolivarian Republic of)</td>\n",
       "      <td>SouthAmerica</td>\n",
       "      <td>912050</td>\n",
       "      <td>31977</td>\n",
       "      <td>11068.9</td>\n",
       "      <td>118</td>\n",
       "      <td>16324</td>\n",
       "    </tr>\n",
       "    <tr>\n",
       "      <th>192</th>\n",
       "      <td>Viet Nam</td>\n",
       "      <td>South-easternAsia</td>\n",
       "      <td>330967</td>\n",
       "      <td>95541</td>\n",
       "      <td>2067.9</td>\n",
       "      <td>136</td>\n",
       "      <td>174111</td>\n",
       "    </tr>\n",
       "    <tr>\n",
       "      <th>193</th>\n",
       "      <td>Yemen</td>\n",
       "      <td>WesternAsia</td>\n",
       "      <td>527968</td>\n",
       "      <td>28250</td>\n",
       "      <td>1106.4</td>\n",
       "      <td>136</td>\n",
       "      <td>6861</td>\n",
       "    </tr>\n",
       "    <tr>\n",
       "      <th>194</th>\n",
       "      <td>Zambia</td>\n",
       "      <td>EasternAfrica</td>\n",
       "      <td>752612</td>\n",
       "      <td>17094</td>\n",
       "      <td>1311.1</td>\n",
       "      <td>179</td>\n",
       "      <td>7442</td>\n",
       "    </tr>\n",
       "    <tr>\n",
       "      <th>195</th>\n",
       "      <td>Zimbabwe</td>\n",
       "      <td>EasternAfrica</td>\n",
       "      <td>390757</td>\n",
       "      <td>16530</td>\n",
       "      <td>890.4</td>\n",
       "      <td>99</td>\n",
       "      <td>5212</td>\n",
       "    </tr>\n",
       "  </tbody>\n",
       "</table>\n",
       "<p>196 rows × 7 columns</p>\n",
       "</div>"
      ],
      "text/plain": [
       "                                country             Region  \\\n",
       "0                           Afghanistan       SouthernAsia   \n",
       "1                               Albania     SouthernEurope   \n",
       "2                               Algeria     NorthernAfrica   \n",
       "3                                Angola       MiddleAfrica   \n",
       "4                   Antigua and Barbuda          Caribbean   \n",
       "..                                  ...                ...   \n",
       "191  Venezuela (Bolivarian Republic of)       SouthAmerica   \n",
       "192                            Viet Nam  South-easternAsia   \n",
       "193                               Yemen        WesternAsia   \n",
       "194                              Zambia      EasternAfrica   \n",
       "195                            Zimbabwe      EasternAfrica   \n",
       "\n",
       "     Surface area (km2)  Population in thousands (2017)  \\\n",
       "0                652864                           35530   \n",
       "1                 28748                            2930   \n",
       "2               2381741                           41318   \n",
       "3               1246700                           29784   \n",
       "4                   442                             102   \n",
       "..                  ...                             ...   \n",
       "191              912050                           31977   \n",
       "192              330967                           95541   \n",
       "193              527968                           28250   \n",
       "194              752612                           17094   \n",
       "195              390757                           16530   \n",
       "\n",
       "     GDP per capita (current US$)  Agricultural production index   \\\n",
       "0                           623.2                             125   \n",
       "1                          3984.2                             134   \n",
       "2                          4154.1                             160   \n",
       "3                          4714.1                             175   \n",
       "4                         14764.5                              88   \n",
       "..                            ...                             ...   \n",
       "191                       11068.9                             118   \n",
       "192                        2067.9                             136   \n",
       "193                        1106.4                             136   \n",
       "194                        1311.1                             179   \n",
       "195                         890.4                              99   \n",
       "\n",
       "     International trade: Imports (million US$)  \n",
       "0                                          3568  \n",
       "1                                          4669  \n",
       "2                                         47091  \n",
       "3                                          8790  \n",
       "4                                           491  \n",
       "..                                          ...  \n",
       "191                                       16324  \n",
       "192                                      174111  \n",
       "193                                        6861  \n",
       "194                                        7442  \n",
       "195                                        5212  \n",
       "\n",
       "[196 rows x 7 columns]"
      ]
     },
     "execution_count": 3,
     "metadata": {},
     "output_type": "execute_result"
    }
   ],
   "source": [
    "data"
   ]
  },
  {
   "cell_type": "markdown",
   "id": "cd9c99ce",
   "metadata": {},
   "source": [
    "# 1.Finding the number of countries"
   ]
  },
  {
   "cell_type": "code",
   "execution_count": 4,
   "id": "a1f7a760",
   "metadata": {},
   "outputs": [
    {
     "data": {
      "text/plain": [
       "Nepal          1\n",
       "Tajikistan     1\n",
       "Malawi         1\n",
       "Qatar          1\n",
       "Mauritania     1\n",
       "              ..\n",
       "Tuvalu         1\n",
       "Canada         1\n",
       "Afghanistan    1\n",
       "Guyana         1\n",
       "El Salvador    1\n",
       "Name: country, Length: 196, dtype: int64"
      ]
     },
     "execution_count": 4,
     "metadata": {},
     "output_type": "execute_result"
    }
   ],
   "source": [
    "data['country'].value_counts()"
   ]
  },
  {
   "cell_type": "markdown",
   "id": "ba80cd20",
   "metadata": {},
   "source": [
    "so the total number of countries is 196"
   ]
  },
  {
   "cell_type": "markdown",
   "id": "c0989076",
   "metadata": {},
   "source": [
    "# 2.Visualising the given data"
   ]
  },
  {
   "cell_type": "code",
   "execution_count": 11,
   "id": "ae64569d",
   "metadata": {},
   "outputs": [
    {
     "name": "stderr",
     "output_type": "stream",
     "text": [
      "C:\\Users\\saheer\\anaconda3\\lib\\site-packages\\seaborn\\distributions.py:2557: FutureWarning: `distplot` is a deprecated function and will be removed in a future version. Please adapt your code to use either `displot` (a figure-level function with similar flexibility) or `histplot` (an axes-level function for histograms).\n",
      "  warnings.warn(msg, FutureWarning)\n"
     ]
    },
    {
     "data": {
      "text/plain": [
       "<AxesSubplot:xlabel='Surface Area', ylabel='Density'>"
      ]
     },
     "execution_count": 11,
     "metadata": {},
     "output_type": "execute_result"
    },
    {
     "data": {
      "image/png": "[encoded data removed]",
      "text/plain": [
       "<Figure size 432x288 with 1 Axes>"
      ]
     },
     "metadata": {
      "needs_background": "light"
     },
     "output_type": "display_data"
    }
   ],
   "source": [
    "sns.distplot(data['Surface area (km2)'] , color=\"gold\", axlabel='Surface Area',bins=5)"
   ]
  },
  {
   "cell_type": "code",
   "execution_count": 13,
   "id": "a0721be2",
   "metadata": {},
   "outputs": [
    {
     "name": "stderr",
     "output_type": "stream",
     "text": [
      "C:\\Users\\saheer\\anaconda3\\lib\\site-packages\\seaborn\\distributions.py:2557: FutureWarning: `distplot` is a deprecated function and will be removed in a future version. Please adapt your code to use either `displot` (a figure-level function with similar flexibility) or `histplot` (an axes-level function for histograms).\n",
      "  warnings.warn(msg, FutureWarning)\n"
     ]
    },
    {
     "data": {
      "text/plain": [
       "<AxesSubplot:xlabel='Population in Thousands(2017)', ylabel='Density'>"
      ]
     },
     "execution_count": 13,
     "metadata": {},
     "output_type": "execute_result"
    },
    {
     "data": {
      "image/png": "[encoded data removed]",
      "text/plain": [
       "<Figure size 432x288 with 1 Axes>"
      ]
     },
     "metadata": {
      "needs_background": "light"
     },
     "output_type": "display_data"
    }
   ],
   "source": [
    "sns.distplot(data['Population in thousands (2017)'] , color=\"coral\", axlabel='Population in Thousands(2017)',bins=5)"
   ]
  },
  {
   "cell_type": "code",
   "execution_count": 15,
   "id": "960739aa",
   "metadata": {},
   "outputs": [
    {
     "name": "stderr",
     "output_type": "stream",
     "text": [
      "C:\\Users\\saheer\\anaconda3\\lib\\site-packages\\seaborn\\distributions.py:2557: FutureWarning: `distplot` is a deprecated function and will be removed in a future version. Please adapt your code to use either `displot` (a figure-level function with similar flexibility) or `histplot` (an axes-level function for histograms).\n",
      "  warnings.warn(msg, FutureWarning)\n"
     ]
    },
    {
     "data": {
      "text/plain": [
       "<AxesSubplot:xlabel='GDP Per Capita(current US$)', ylabel='Density'>"
      ]
     },
     "execution_count": 15,
     "metadata": {},
     "output_type": "execute_result"
    },
    {
     "data": {
      "image/png": "[encoded data removed]",
      "text/plain": [
       "<Figure size 432x288 with 1 Axes>"
      ]
     },
     "metadata": {
      "needs_background": "light"
     },
     "output_type": "display_data"
    }
   ],
   "source": [
    "sns.distplot(data['GDP per capita (current US$)'] , color=\"dodgerblue\", axlabel='GDP Per Capita(current US$)',bins=5)"
   ]
  },
  {
   "cell_type": "code",
   "execution_count": 16,
   "id": "55bb68c5",
   "metadata": {},
   "outputs": [
    {
     "name": "stderr",
     "output_type": "stream",
     "text": [
      "C:\\Users\\saheer\\anaconda3\\lib\\site-packages\\seaborn\\distributions.py:2557: FutureWarning: `distplot` is a deprecated function and will be removed in a future version. Please adapt your code to use either `displot` (a figure-level function with similar flexibility) or `histplot` (an axes-level function for histograms).\n",
      "  warnings.warn(msg, FutureWarning)\n"
     ]
    },
    {
     "data": {
      "text/plain": [
       "<AxesSubplot:xlabel='International Trade: Imports(million US$)', ylabel='Density'>"
      ]
     },
     "execution_count": 16,
     "metadata": {},
     "output_type": "execute_result"
    },
    {
     "data": {
      "image/png": "[encoded data removed]",
      "text/plain": [
       "<Figure size 432x288 with 1 Axes>"
      ]
     },
     "metadata": {
      "needs_background": "light"
     },
     "output_type": "display_data"
    }
   ],
   "source": [
    "sns.distplot(data['International trade: Imports (million US$)'] , color=\"steelblue\", axlabel='International Trade: Imports(million US$)',bins=5)"
   ]
  },
  {
   "cell_type": "code",
   "execution_count": 18,
   "id": "b84b96cd",
   "metadata": {},
   "outputs": [
    {
     "name": "stderr",
     "output_type": "stream",
     "text": [
      "C:\\Users\\saheer\\anaconda3\\lib\\site-packages\\seaborn\\distributions.py:2557: FutureWarning: `distplot` is a deprecated function and will be removed in a future version. Please adapt your code to use either `displot` (a figure-level function with similar flexibility) or `histplot` (an axes-level function for histograms).\n",
      "  warnings.warn(msg, FutureWarning)\n"
     ]
    },
    {
     "data": {
      "text/plain": [
       "<AxesSubplot:xlabel='Agricultural Productio Index', ylabel='Density'>"
      ]
     },
     "execution_count": 18,
     "metadata": {},
     "output_type": "execute_result"
    },
    {
     "data": {
      "image/png": "[encoded data removed]",
      "text/plain": [
       "<Figure size 432x288 with 1 Axes>"
      ]
     },
     "metadata": {
      "needs_background": "light"
     },
     "output_type": "display_data"
    }
   ],
   "source": [
    "sns.distplot(data['Agricultural production index '] , color=\"purple\", axlabel='Agricultural Productio Index',bins=5)"
   ]
  },
  {
   "cell_type": "markdown",
   "id": "147fe721",
   "metadata": {},
   "source": [
    "from this we can see that the agricultural productio index is the only normally distributed"
   ]
  },
  {
   "cell_type": "markdown",
   "id": "a286ed29",
   "metadata": {},
   "source": [
    "# 3.Finding out how many countries with respect to the region are available in the dataset"
   ]
  },
  {
   "cell_type": "code",
   "execution_count": 20,
   "id": "9eae8a3f",
   "metadata": {},
   "outputs": [
    {
     "data": {
      "text/plain": [
       "Region\n",
       "Caribbean            16\n",
       "CentralAmerica        8\n",
       "CentralAsia           5\n",
       "EasternAfrica        17\n",
       "EasternAsia           7\n",
       "EasternEurope        10\n",
       "Melanesia             5\n",
       "Micronesia            4\n",
       "MiddleAfrica          9\n",
       "NorthernAfrica        5\n",
       "NorthernAmerica       4\n",
       "NorthernEurope       10\n",
       "Oceania               2\n",
       "Polynesia             5\n",
       "South-easternAsia    11\n",
       "SouthAmerica         12\n",
       "SouthernAfrica        5\n",
       "SouthernAsia          9\n",
       "SouthernEurope       12\n",
       "WesternAfrica        15\n",
       "WesternAsia          18\n",
       "WesternEurope         7\n",
       "Name: country, dtype: int64"
      ]
     },
     "execution_count": 20,
     "metadata": {},
     "output_type": "execute_result"
    }
   ],
   "source": [
    "data.groupby('Region')['country'].nunique()"
   ]
  },
  {
   "cell_type": "markdown",
   "id": "b8dcebdb",
   "metadata": {},
   "source": [
    "the above data shows the countries by region"
   ]
  },
  {
   "cell_type": "markdown",
   "id": "6ae053ec",
   "metadata": {},
   "source": [
    "# 4.Finding On average which region has the highest"
   ]
  },
  {
   "cell_type": "markdown",
   "id": "0d59f085",
   "metadata": {},
   "source": [
    "A.GDP per capita (current US$)"
   ]
  },
  {
   "cell_type": "code",
   "execution_count": 22,
   "id": "26fc1d65",
   "metadata": {},
   "outputs": [
    {
     "data": {
      "text/plain": [
       "Region\n",
       "Caribbean            15135.562500\n",
       "CentralAmerica        6348.137500\n",
       "CentralAsia           4329.880000\n",
       "EasternAfrica         2088.852941\n",
       "EasternAsia          27967.614286\n",
       "EasternEurope         9292.490000\n",
       "Melanesia             9261.960000\n",
       "Micronesia            5008.300000\n",
       "MiddleAfrica          3928.833333\n",
       "NorthernAfrica        3934.960000\n",
       "NorthernAmerica      57659.000000\n",
       "NorthernEurope       42098.220000\n",
       "Oceania              44823.250000\n",
       "Polynesia             8686.520000\n",
       "South-easternAsia    10299.027273\n",
       "SouthAmerica          8499.775000\n",
       "SouthernAfrica        4191.900000\n",
       "SouthernAsia          2968.400000\n",
       "SouthernEurope       14462.741667\n",
       "WesternAfrica         1013.140000\n",
       "WesternAsia          17013.938889\n",
       "WesternEurope        55387.128571\n",
       "Name: GDP per capita (current US$), dtype: float64"
      ]
     },
     "execution_count": 22,
     "metadata": {},
     "output_type": "execute_result"
    }
   ],
   "source": [
    "data.groupby('Region')['GDP per capita (current US$)'].mean()"
   ]
  },
  {
   "cell_type": "markdown",
   "id": "81d287ee",
   "metadata": {},
   "source": [
    "From this we can see that Northern America has the highest gdp per capita "
   ]
  },
  {
   "cell_type": "markdown",
   "id": "0d921cc7",
   "metadata": {},
   "source": [
    "B.International trade: Imports (million US$)"
   ]
  },
  {
   "cell_type": "code",
   "execution_count": 24,
   "id": "986b29fd",
   "metadata": {},
   "outputs": [
    {
     "data": {
      "text/plain": [
       "Region\n",
       "Caribbean              3057.312500\n",
       "CentralAmerica        57031.500000\n",
       "CentralAsia           12063.400000\n",
       "EasternAfrica          4726.176471\n",
       "EasternAsia          451995.000000\n",
       "EasternEurope         85243.900000\n",
       "Melanesia              2896.400000\n",
       "Micronesia               99.000000\n",
       "MiddleAfrica           4381.222222\n",
       "NorthernAfrica        35034.400000\n",
       "NorthernAmerica      663552.250000\n",
       "NorthernEurope       113407.200000\n",
       "Oceania              112914.500000\n",
       "Polynesia               432.000000\n",
       "South-easternAsia     98324.636364\n",
       "SouthAmerica          32885.666667\n",
       "SouthernAfrica        18005.600000\n",
       "SouthernAsia          58199.333333\n",
       "SouthernEurope        76666.666667\n",
       "WesternAfrica          4898.333333\n",
       "WesternAsia           46025.555556\n",
       "WesternEurope        407498.428571\n",
       "Name: International trade: Imports (million US$), dtype: float64"
      ]
     },
     "execution_count": 24,
     "metadata": {},
     "output_type": "execute_result"
    }
   ],
   "source": [
    "data.groupby('Region')['International trade: Imports (million US$)'].mean()"
   ]
  },
  {
   "cell_type": "markdown",
   "id": "dd98d068",
   "metadata": {},
   "source": [
    "From this we can see that Northern America having higest International trade imports"
   ]
  },
  {
   "cell_type": "markdown",
   "id": "c61ad19d",
   "metadata": {},
   "source": [
    "# 5.Finding out which region has more consistent with respect to GDP per capita (current US$)"
   ]
  },
  {
   "cell_type": "code",
   "execution_count": 25,
   "id": "5598f255",
   "metadata": {},
   "outputs": [
    {
     "data": {
      "text/plain": [
       "Region\n",
       "Caribbean            2.125581e+08\n",
       "CentralAmerica       1.747609e+07\n",
       "CentralAsia          1.724089e+07\n",
       "EasternAfrica        1.380964e+07\n",
       "EasternAsia          7.554319e+08\n",
       "EasternEurope        2.932752e+07\n",
       "Melanesia            1.919844e+08\n",
       "Micronesia           2.323886e+07\n",
       "MiddleAfrica         2.782400e+07\n",
       "NorthernAfrica       9.500529e+05\n",
       "NorthernAmerica      6.630429e+08\n",
       "NorthernEurope       4.272915e+08\n",
       "Oceania              8.525438e+07\n",
       "Polynesia            4.838942e+07\n",
       "South-easternAsia    2.660752e+08\n",
       "SouthAmerica         1.826457e+07\n",
       "SouthernAfrica       4.741729e+06\n",
       "SouthernAsia         8.155069e+06\n",
       "SouthernEurope       9.104410e+07\n",
       "WesternAfrica        6.643805e+05\n",
       "WesternAsia          3.538970e+08\n",
       "WesternEurope        6.135761e+08\n",
       "Name: GDP per capita (current US$), dtype: float64"
      ]
     },
     "execution_count": 25,
     "metadata": {},
     "output_type": "execute_result"
    }
   ],
   "source": [
    "data.groupby('Region')['GDP per capita (current US$)'].var()"
   ]
  },
  {
   "cell_type": "code",
   "execution_count": 26,
   "id": "938488aa",
   "metadata": {},
   "outputs": [
    {
     "data": {
      "text/plain": [
       "664380.5097142856"
      ]
     },
     "execution_count": 26,
     "metadata": {},
     "output_type": "execute_result"
    }
   ],
   "source": [
    "data.groupby('Region')['GDP per capita (current US$)'].var().min()"
   ]
  },
  {
   "cell_type": "markdown",
   "id": "42037a64",
   "metadata": {},
   "source": [
    "from this we can say western africa is more consistent"
   ]
  },
  {
   "cell_type": "code",
   "execution_count": null,
   "id": "c700d984",
   "metadata": {},
   "outputs": [],
   "source": []
  }
 ],
 "metadata": {
  "kernelspec": {
   "display_name": "Python 3",
   "language": "python",
   "name": "python3"
  },
  "language_info": {
   "codemirror_mode": {
    "name": "ipython",
    "version": 3
   },
   "file_extension": ".py",
   "mimetype": "text/x-python",
   "name": "python",
   "nbconvert_exporter": "python",
   "pygments_lexer": "ipython3",
   "version": "3.8.8"
  }
 },
 "nbformat": 4,
 "nbformat_minor": 5
}
