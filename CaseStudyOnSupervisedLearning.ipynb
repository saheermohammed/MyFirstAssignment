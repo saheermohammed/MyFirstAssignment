{
 "cells": [
  {
   "cell_type": "code",
   "execution_count": 1,
   "id": "47aab6fa",
   "metadata": {},
   "outputs": [],
   "source": [
    "import pandas as pd\n",
    "import numpy as np\n",
    "import matplotlib.pyplot as plt\n",
    "import seaborn as sns\n",
    "from sklearn import metrics\n",
    "sns.set()\n",
    "import warnings\n",
    "warnings.filterwarnings('ignore')"
   ]
  },
  {
   "cell_type": "markdown",
   "id": "937e5969",
   "metadata": {},
   "source": [
    "# 1. Reading the dataset to the python environment."
   ]
  },
  {
   "cell_type": "code",
   "execution_count": 2,
   "id": "964d63f7",
   "metadata": {},
   "outputs": [],
   "source": [
    "data = pd.read_excel(r\"C:\\Users\\saheer\\Downloads\\iris (1).xls\")"
   ]
  },
  {
   "cell_type": "code",
   "execution_count": 3,
   "id": "9c7065f5",
   "metadata": {},
   "outputs": [
    {
     "data": {
      "text/html": [
       "<div>\n",
       "<style scoped>\n",
       "    .dataframe tbody tr th:only-of-type {\n",
       "        vertical-align: middle;\n",
       "    }\n",
       "\n",
       "    .dataframe tbody tr th {\n",
       "        vertical-align: top;\n",
       "    }\n",
       "\n",
       "    .dataframe thead th {\n",
       "        text-align: right;\n",
       "    }\n",
       "</style>\n",
       "<table border=\"1\" class=\"dataframe\">\n",
       "  <thead>\n",
       "    <tr style=\"text-align: right;\">\n",
       "      <th></th>\n",
       "      <th>SL</th>\n",
       "      <th>SW</th>\n",
       "      <th>PL</th>\n",
       "      <th>PW</th>\n",
       "      <th>Classification</th>\n",
       "    </tr>\n",
       "  </thead>\n",
       "  <tbody>\n",
       "    <tr>\n",
       "      <th>0</th>\n",
       "      <td>5.1</td>\n",
       "      <td>3.5</td>\n",
       "      <td>1.4</td>\n",
       "      <td>0.2</td>\n",
       "      <td>Iris-setosa</td>\n",
       "    </tr>\n",
       "    <tr>\n",
       "      <th>1</th>\n",
       "      <td>4.9</td>\n",
       "      <td>3.0</td>\n",
       "      <td>1.4</td>\n",
       "      <td>0.2</td>\n",
       "      <td>Iris-setosa</td>\n",
       "    </tr>\n",
       "    <tr>\n",
       "      <th>2</th>\n",
       "      <td>NaN</td>\n",
       "      <td>3.2</td>\n",
       "      <td>1.3</td>\n",
       "      <td>0.2</td>\n",
       "      <td>Iris-setosa</td>\n",
       "    </tr>\n",
       "    <tr>\n",
       "      <th>3</th>\n",
       "      <td>4.6</td>\n",
       "      <td>3.1</td>\n",
       "      <td>1.5</td>\n",
       "      <td>0.2</td>\n",
       "      <td>Iris-setosa</td>\n",
       "    </tr>\n",
       "    <tr>\n",
       "      <th>4</th>\n",
       "      <td>5.0</td>\n",
       "      <td>3.6</td>\n",
       "      <td>1.4</td>\n",
       "      <td>0.2</td>\n",
       "      <td>Iris-setosa</td>\n",
       "    </tr>\n",
       "  </tbody>\n",
       "</table>\n",
       "</div>"
      ],
      "text/plain": [
       "    SL   SW   PL   PW Classification\n",
       "0  5.1  3.5  1.4  0.2    Iris-setosa\n",
       "1  4.9  3.0  1.4  0.2    Iris-setosa\n",
       "2  NaN  3.2  1.3  0.2    Iris-setosa\n",
       "3  4.6  3.1  1.5  0.2    Iris-setosa\n",
       "4  5.0  3.6  1.4  0.2    Iris-setosa"
      ]
     },
     "execution_count": 3,
     "metadata": {},
     "output_type": "execute_result"
    }
   ],
   "source": [
    "data.head()"
   ]
  },
  {
   "cell_type": "markdown",
   "id": "672f754c",
   "metadata": {},
   "source": [
    "# 2. Doing necessary pre-processing steps."
   ]
  },
  {
   "cell_type": "markdown",
   "id": "ae11f3f5",
   "metadata": {},
   "source": [
    "Checking for null values"
   ]
  },
  {
   "cell_type": "code",
   "execution_count": 5,
   "id": "196a6daa",
   "metadata": {},
   "outputs": [
    {
     "data": {
      "text/plain": [
       "SL                7\n",
       "SW                6\n",
       "PL                6\n",
       "PW                0\n",
       "Classification    0\n",
       "dtype: int64"
      ]
     },
     "execution_count": 5,
     "metadata": {},
     "output_type": "execute_result"
    }
   ],
   "source": [
    "data.isna().sum()"
   ]
  },
  {
   "cell_type": "markdown",
   "id": "8955125a",
   "metadata": {},
   "source": [
    "Handling missing values "
   ]
  },
  {
   "cell_type": "code",
   "execution_count": 6,
   "id": "e2682e66",
   "metadata": {},
   "outputs": [],
   "source": [
    "data['SL'] = data['SL'].fillna(data['PL'].mean())\n",
    "data['SW'] = data['SW'].fillna(data['PL'].mean())\n",
    "data['PL'] = data['PL'].fillna(data['PL'].mean())"
   ]
  },
  {
   "cell_type": "code",
   "execution_count": 7,
   "id": "249078f6",
   "metadata": {},
   "outputs": [
    {
     "data": {
      "text/plain": [
       "SL                0\n",
       "SW                0\n",
       "PL                0\n",
       "PW                0\n",
       "Classification    0\n",
       "dtype: int64"
      ]
     },
     "execution_count": 7,
     "metadata": {},
     "output_type": "execute_result"
    }
   ],
   "source": [
    "data.isna().sum()"
   ]
  },
  {
   "cell_type": "markdown",
   "id": "41773c86",
   "metadata": {},
   "source": [
    "Handling outliers"
   ]
  },
  {
   "cell_type": "code",
   "execution_count": 8,
   "id": "1beb4e6a",
   "metadata": {},
   "outputs": [
    {
     "data": {
      "image/png": "[encoded data removed]",
      "text/plain": [
       "<Figure size 1152x648 with 4 Axes>"
      ]
     },
     "metadata": {},
     "output_type": "display_data"
    }
   ],
   "source": [
    "fig, axes = plt.subplots(2, 2, figsize=(16,9))\n",
    "sns.boxplot( y=data['PL'], x= 'Classification', data=data, orient='v' , ax=axes[0, 0])\n",
    "sns.boxplot( y=data['PW'], x= 'Classification', data=data, orient='v' , ax=axes[0, 1])\n",
    "sns.boxplot( y=data['SL'], x= 'Classification', data=data, orient='v' , ax=axes[1, 0])\n",
    "sns.boxplot( y=data['SW'], x= 'Classification', data=data, orient='v' , ax=axes[1, 1])\n",
    "plt.show()"
   ]
  },
  {
   "cell_type": "code",
   "execution_count": 11,
   "id": "88e1ab6b",
   "metadata": {},
   "outputs": [
    {
     "name": "stdout",
     "output_type": "stream",
     "text": [
      "Int64Index([2, 21, 39], dtype='int64')\n",
      "Int64Index([51, 85], dtype='int64')\n",
      "Int64Index([106, 141], dtype='int64')\n",
      "Int64Index([], dtype='int64')\n",
      "Int64Index([72, 98], dtype='int64')\n",
      "Int64Index([], dtype='int64')\n",
      "Int64Index([22, 28, 42], dtype='int64')\n",
      "Int64Index([], dtype='int64')\n",
      "Int64Index([109, 147], dtype='int64')\n",
      "Int64Index([23, 43], dtype='int64')\n",
      "Int64Index([], dtype='int64')\n",
      "Int64Index([], dtype='int64')\n"
     ]
    }
   ],
   "source": [
    "for column in data.columns[0:4]:\n",
    "    for classification in data[\"Classification\"].unique():\n",
    "        class_type = data[data[\"Classification\"] == classification]\n",
    "        Selected_column = class_type[column]\n",
    "        q1 = Selected_column.quantile(0.25) # for select first quartile\n",
    "        q3 = Selected_column.quantile(0.75) # for select third quartile\n",
    "        iqr = q3 - q1 # this is interquartile range\n",
    "        upper_limit = q3 + 1.5 * iqr\n",
    "        lower_limit = q1 - 1.5 * iqr        \n",
    "        outlierss = Selected_column[(Selected_column > upper_limit) | (Selected_column < lower_limit)].index # picking outliers' indeces\n",
    "        print(outlierss)\n",
    "        data.drop(index = outlierss, inplace=True) # dropping outliers"
   ]
  },
  {
   "cell_type": "code",
   "execution_count": 12,
   "id": "ab3803ac",
   "metadata": {},
   "outputs": [
    {
     "data": {
      "image/png": "[encoded data removed]",
      "text/plain": [
       "<Figure size 1152x648 with 4 Axes>"
      ]
     },
     "metadata": {},
     "output_type": "display_data"
    }
   ],
   "source": [
    "fig, axes = plt.subplots(2, 2, figsize=(16,9))\n",
    "sns.boxplot( y=data['PL'], x= 'Classification', data=data, orient='v' , ax=axes[0, 0])\n",
    "sns.boxplot( y=data['PW'], x= 'Classification', data=data, orient='v' , ax=axes[0, 1])\n",
    "sns.boxplot( y=data['SL'], x= 'Classification', data=data, orient='v' , ax=axes[1, 0])\n",
    "sns.boxplot( y=data['SW'], x= 'Classification', data=data, orient='v' , ax=axes[1, 1])\n",
    "plt.show()"
   ]
  },
  {
   "cell_type": "code",
   "execution_count": 13,
   "id": "eead0179",
   "metadata": {},
   "outputs": [
    {
     "data": {
      "text/plain": [
       "<AxesSubplot:>"
      ]
     },
     "execution_count": 13,
     "metadata": {},
     "output_type": "execute_result"
    },
    {
     "data": {
      "image/png": "[encoded data removed]",
      "text/plain": [
       "<Figure size 1440x576 with 2 Axes>"
      ]
     },
     "metadata": {},
     "output_type": "display_data"
    }
   ],
   "source": [
    "corrmatrix = data.corr()\n",
    "plt.subplots(figsize=(20,8))\n",
    "sns.heatmap(corrmatrix,vmin=0.4,vmax=0.9,annot=True,linewidths=0.2,cmap='Blues')"
   ]
  },
  {
   "cell_type": "markdown",
   "id": "2057b9ba",
   "metadata": {},
   "source": [
    "Feature Engineering"
   ]
  },
  {
   "cell_type": "code",
   "execution_count": 19,
   "id": "09ccdc00",
   "metadata": {},
   "outputs": [],
   "source": [
    "y = data['Classification']\n",
    "x = data.drop('Classification',axis=1)"
   ]
  },
  {
   "cell_type": "code",
   "execution_count": 20,
   "id": "7320a356",
   "metadata": {},
   "outputs": [],
   "source": [
    "x['mean'] = x[['SW', 'SL', 'PW', 'PL']].mean(axis = 1)\n",
    "x['sum'] = x[['SW', 'SL', 'PW', 'PL']].sum(axis = 1)\n",
    "x['skew'] = x[['SW', 'SL', 'PW', 'PL']].skew(axis = 1)\n",
    "x['kurt'] = x[['SW', 'SL', 'PW', 'PL']].kurt(axis = 1)"
   ]
  },
  {
   "cell_type": "code",
   "execution_count": 21,
   "id": "a1aa9bab",
   "metadata": {},
   "outputs": [
    {
     "data": {
      "text/plain": [
       "Index(['SL', 'SW', 'PL', 'PW', 'mean', 'sum', 'skew', 'kurt'], dtype='object')"
      ]
     },
     "execution_count": 21,
     "metadata": {},
     "output_type": "execute_result"
    }
   ],
   "source": [
    "x.columns"
   ]
  },
  {
   "cell_type": "markdown",
   "id": "bba6c988",
   "metadata": {},
   "source": [
    "Splitting the data"
   ]
  },
  {
   "cell_type": "code",
   "execution_count": 22,
   "id": "4a2c35aa",
   "metadata": {},
   "outputs": [],
   "source": [
    "from sklearn.model_selection import train_test_split\n",
    "x_train, x_test, y_train, y_test = train_test_split(x, y, random_state = 2, test_size = 0.3)"
   ]
  },
  {
   "cell_type": "markdown",
   "id": "bed971c3",
   "metadata": {},
   "source": [
    "Standard Scaling"
   ]
  },
  {
   "cell_type": "code",
   "execution_count": 23,
   "id": "47acfd04",
   "metadata": {},
   "outputs": [],
   "source": [
    "from sklearn.preprocessing import StandardScaler\n",
    "scaler = StandardScaler()\n",
    "x_train = scaler.fit_transform(x_train)\n",
    "x_test = scaler.fit_transform(x_test)"
   ]
  },
  {
   "cell_type": "markdown",
   "id": "dacf3b85",
   "metadata": {},
   "source": [
    "# 3. Finding out which classification model gives the best result to predict iris species.(also do random forest algorithm)"
   ]
  },
  {
   "cell_type": "markdown",
   "id": "f28622aa",
   "metadata": {},
   "source": [
    "Logistic Regression"
   ]
  },
  {
   "cell_type": "code",
   "execution_count": 24,
   "id": "fe93a3d4",
   "metadata": {},
   "outputs": [],
   "source": [
    "from sklearn.linear_model import LogisticRegression\n",
    "logit_model = LogisticRegression()\n",
    "logit_model.fit(x_train, y_train)\n",
    "y_pred = logit_model.predict(x_test)"
   ]
  },
  {
   "cell_type": "code",
   "execution_count": 25,
   "id": "8d75f66f",
   "metadata": {},
   "outputs": [],
   "source": [
    "from sklearn.metrics import confusion_matrix, accuracy_score, precision_score, recall_score, f1_score"
   ]
  },
  {
   "cell_type": "code",
   "execution_count": 26,
   "id": "397b734c",
   "metadata": {},
   "outputs": [
    {
     "name": "stdout",
     "output_type": "stream",
     "text": [
      "Accuracy is:  1.0\n",
      "Precision is:  1.0\n",
      "Recall is:  1.0\n",
      "F1 score is:  1.0\n"
     ]
    }
   ],
   "source": [
    "print(\"Accuracy is: \", accuracy_score(y_test,y_pred))\n",
    "print(\"Precision is: \", precision_score(y_test,y_pred, average = 'micro'))\n",
    "print(\"Recall is: \", recall_score(y_test,y_pred,  average = 'micro'))\n",
    "print(\"F1 score is: \", f1_score(y_test,y_pred,  average = 'micro'))"
   ]
  },
  {
   "cell_type": "code",
   "execution_count": 27,
   "id": "8ec543fe",
   "metadata": {},
   "outputs": [
    {
     "data": {
      "text/plain": [
       "array([[16,  0,  0],\n",
       "       [ 0, 13,  0],\n",
       "       [ 0,  0, 12]], dtype=int64)"
      ]
     },
     "execution_count": 27,
     "metadata": {},
     "output_type": "execute_result"
    }
   ],
   "source": [
    "confusion_matrix(y_test,y_pred)"
   ]
  },
  {
   "cell_type": "markdown",
   "id": "7ebafb39",
   "metadata": {},
   "source": [
    "KNN Algorithm"
   ]
  },
  {
   "cell_type": "code",
   "execution_count": 28,
   "id": "24f0c182",
   "metadata": {},
   "outputs": [],
   "source": [
    "from sklearn.neighbors import KNeighborsClassifier\n",
    "acc_values = []\n",
    "neighbors = np.arange(3,15)\n",
    "for k in neighbors:\n",
    "    classifier = KNeighborsClassifier(n_neighbors = k, metric='minkowski')\n",
    "    classifier.fit(x_train, y_train)\n",
    "    y_pred =  classifier.predict(x_test)\n",
    "    acc = accuracy_score(y_test, y_pred)\n",
    "    acc_values.append(acc)"
   ]
  },
  {
   "cell_type": "code",
   "execution_count": 29,
   "id": "e2f53bb2",
   "metadata": {},
   "outputs": [
    {
     "data": {
      "text/plain": [
       "[0.9512195121951219,\n",
       " 0.975609756097561,\n",
       " 0.926829268292683,\n",
       " 0.975609756097561,\n",
       " 0.975609756097561,\n",
       " 0.975609756097561,\n",
       " 0.975609756097561,\n",
       " 0.975609756097561,\n",
       " 0.975609756097561,\n",
       " 0.975609756097561,\n",
       " 0.975609756097561,\n",
       " 0.975609756097561]"
      ]
     },
     "execution_count": 29,
     "metadata": {},
     "output_type": "execute_result"
    }
   ],
   "source": [
    "acc_values"
   ]
  },
  {
   "cell_type": "code",
   "execution_count": 30,
   "id": "84da59fa",
   "metadata": {},
   "outputs": [
    {
     "data": {
      "text/plain": [
       "Text(0, 0.5, 'Accuracy')"
      ]
     },
     "execution_count": 30,
     "metadata": {},
     "output_type": "execute_result"
    },
    {
     "data": {
      "image/png": "[encoded data removed]",
      "text/plain": [
       "<Figure size 432x288 with 1 Axes>"
      ]
     },
     "metadata": {},
     "output_type": "display_data"
    }
   ],
   "source": [
    "plt.plot(neighbors, acc_values, 'o-')\n",
    "plt.xlabel('K values')\n",
    "plt.ylabel('Accuracy')"
   ]
  },
  {
   "cell_type": "code",
   "execution_count": 31,
   "id": "b8f42747",
   "metadata": {},
   "outputs": [],
   "source": [
    "classifier = KNeighborsClassifier(n_neighbors = 5, metric='minkowski')\n",
    "classifier.fit(x_train, y_train)\n",
    "y_pred =  classifier.predict(x_test)   "
   ]
  },
  {
   "cell_type": "code",
   "execution_count": 32,
   "id": "9c5b7588",
   "metadata": {},
   "outputs": [
    {
     "name": "stdout",
     "output_type": "stream",
     "text": [
      "Accuracy is:  0.926829268292683\n",
      "Precision is:  0.926829268292683\n",
      "Recall is:  0.926829268292683\n",
      "F1 score is:  0.926829268292683\n"
     ]
    }
   ],
   "source": [
    "print(\"Accuracy is: \", accuracy_score(y_test,y_pred))\n",
    "print(\"Precision is: \", precision_score(y_test,y_pred, average = 'micro'))\n",
    "print(\"Recall is: \", recall_score(y_test,y_pred,  average = 'micro'))\n",
    "print(\"F1 score is: \", f1_score(y_test,y_pred,  average = 'micro'))"
   ]
  },
  {
   "cell_type": "code",
   "execution_count": 33,
   "id": "038d079b",
   "metadata": {},
   "outputs": [
    {
     "data": {
      "text/plain": [
       "array([[16,  0,  0],\n",
       "       [ 0, 10,  3],\n",
       "       [ 0,  0, 12]], dtype=int64)"
      ]
     },
     "execution_count": 33,
     "metadata": {},
     "output_type": "execute_result"
    }
   ],
   "source": [
    "confusion_matrix(y_test,y_pred)"
   ]
  },
  {
   "cell_type": "markdown",
   "id": "c9130533",
   "metadata": {},
   "source": [
    "Decision Tree Algorithm"
   ]
  },
  {
   "cell_type": "code",
   "execution_count": 34,
   "id": "6da79cd6",
   "metadata": {},
   "outputs": [],
   "source": [
    "from sklearn.tree import DecisionTreeClassifier\n",
    "dt_model =DecisionTreeClassifier()\n",
    "dt_model.fit(x_train,y_train)\n",
    "y_pred=dt_model.predict(x_test)"
   ]
  },
  {
   "cell_type": "code",
   "execution_count": 35,
   "id": "42870c98",
   "metadata": {},
   "outputs": [
    {
     "name": "stdout",
     "output_type": "stream",
     "text": [
      "Accuracy is:  0.9512195121951219\n",
      "Precision is:  0.9512195121951219\n",
      "Recall is:  0.9512195121951219\n",
      "F1 score is:  0.9512195121951219\n"
     ]
    }
   ],
   "source": [
    "print(\"Accuracy is: \", accuracy_score(y_test,y_pred))\n",
    "print(\"Precision is: \", precision_score(y_test,y_pred, average = 'micro'))\n",
    "print(\"Recall is: \", recall_score(y_test,y_pred,  average = 'micro'))\n",
    "print(\"F1 score is: \", f1_score(y_test,y_pred,  average = 'micro'))"
   ]
  },
  {
   "cell_type": "code",
   "execution_count": 36,
   "id": "2f06570a",
   "metadata": {},
   "outputs": [
    {
     "data": {
      "text/plain": [
       "array([[16,  0,  0],\n",
       "       [ 0, 12,  1],\n",
       "       [ 0,  1, 11]], dtype=int64)"
      ]
     },
     "execution_count": 36,
     "metadata": {},
     "output_type": "execute_result"
    }
   ],
   "source": [
    "confusion_matrix(y_test,y_pred)"
   ]
  },
  {
   "cell_type": "markdown",
   "id": "39a82df0",
   "metadata": {},
   "source": [
    "Support Vector Machine---Linear Kernel"
   ]
  },
  {
   "cell_type": "code",
   "execution_count": 37,
   "id": "9c7c5539",
   "metadata": {},
   "outputs": [],
   "source": [
    "from sklearn.svm import SVC\n",
    "svm_linear = SVC(kernel = 'linear')\n",
    "svm_linear.fit(x_train, y_train)\n",
    "y_pred = svm_linear.predict(x_test)"
   ]
  },
  {
   "cell_type": "code",
   "execution_count": 38,
   "id": "e9dcac6c",
   "metadata": {},
   "outputs": [
    {
     "name": "stdout",
     "output_type": "stream",
     "text": [
      "Accuracy is:  0.9512195121951219\n",
      "Precision is:  0.9512195121951219\n",
      "Recall is:  0.9512195121951219\n",
      "F1 score is:  0.9512195121951219\n"
     ]
    }
   ],
   "source": [
    "print(\"Accuracy is: \", accuracy_score(y_test,y_pred))\n",
    "print(\"Precision is: \", precision_score(y_test,y_pred, average = 'micro'))\n",
    "print(\"Recall is: \", recall_score(y_test,y_pred,  average = 'micro'))\n",
    "print(\"F1 score is: \", f1_score(y_test,y_pred,  average = 'micro'))"
   ]
  },
  {
   "cell_type": "code",
   "execution_count": 39,
   "id": "7888554f",
   "metadata": {},
   "outputs": [
    {
     "data": {
      "text/plain": [
       "array([[16,  0,  0],\n",
       "       [ 0, 11,  2],\n",
       "       [ 0,  0, 12]], dtype=int64)"
      ]
     },
     "execution_count": 39,
     "metadata": {},
     "output_type": "execute_result"
    }
   ],
   "source": [
    "confusion_matrix(y_test,y_pred)"
   ]
  },
  {
   "cell_type": "markdown",
   "id": "45725bac",
   "metadata": {},
   "source": [
    "Support Vector Machine---Polynomial Kernel"
   ]
  },
  {
   "cell_type": "code",
   "execution_count": 40,
   "id": "2464b300",
   "metadata": {},
   "outputs": [],
   "source": [
    "svm_poly = SVC(kernel = 'poly', degree = 3)\n",
    "svm_poly.fit(x_train,y_train)\n",
    "y_pred = svm_poly.predict(x_test)"
   ]
  },
  {
   "cell_type": "code",
   "execution_count": 41,
   "id": "5758539d",
   "metadata": {},
   "outputs": [
    {
     "name": "stdout",
     "output_type": "stream",
     "text": [
      "Accuracy is:  0.9512195121951219\n",
      "Precision is:  0.9512195121951219\n",
      "Recall is:  0.9512195121951219\n",
      "F1 score is:  0.9512195121951219\n"
     ]
    }
   ],
   "source": [
    "print(\"Accuracy is: \", accuracy_score(y_test,y_pred))\n",
    "print(\"Precision is: \", precision_score(y_test,y_pred, average = 'micro'))\n",
    "print(\"Recall is: \", recall_score(y_test,y_pred,  average = 'micro'))\n",
    "print(\"F1 score is: \", f1_score(y_test,y_pred,  average = 'micro'))"
   ]
  },
  {
   "cell_type": "code",
   "execution_count": 42,
   "id": "72d97e0b",
   "metadata": {},
   "outputs": [
    {
     "data": {
      "text/plain": [
       "array([[15,  1,  0],\n",
       "       [ 0, 13,  0],\n",
       "       [ 0,  1, 11]], dtype=int64)"
      ]
     },
     "execution_count": 42,
     "metadata": {},
     "output_type": "execute_result"
    }
   ],
   "source": [
    "confusion_matrix(y_test,y_pred)"
   ]
  },
  {
   "cell_type": "markdown",
   "id": "254d00e6",
   "metadata": {},
   "source": [
    "Support Vector Machine---Radial Basis Function Kernel"
   ]
  },
  {
   "cell_type": "code",
   "execution_count": 43,
   "id": "4f6303ff",
   "metadata": {},
   "outputs": [],
   "source": [
    "svm_radial = SVC(kernel = 'rbf')\n",
    "svm_radial.fit(x_train,y_train)\n",
    "y_pred = svm_radial.predict(x_test)"
   ]
  },
  {
   "cell_type": "code",
   "execution_count": 44,
   "id": "75868027",
   "metadata": {},
   "outputs": [
    {
     "name": "stdout",
     "output_type": "stream",
     "text": [
      "Accuracy is:  0.975609756097561\n",
      "Precision is:  0.975609756097561\n",
      "Recall is:  0.975609756097561\n",
      "F1 score is:  0.975609756097561\n"
     ]
    }
   ],
   "source": [
    "print(\"Accuracy is: \", accuracy_score(y_test,y_pred))\n",
    "print(\"Precision is: \", precision_score(y_test,y_pred, average = 'micro'))\n",
    "print(\"Recall is: \", recall_score(y_test,y_pred,  average = 'micro'))\n",
    "print(\"F1 score is: \", f1_score(y_test,y_pred,  average = 'micro'))"
   ]
  },
  {
   "cell_type": "code",
   "execution_count": 45,
   "id": "4eda8eeb",
   "metadata": {},
   "outputs": [
    {
     "data": {
      "text/plain": [
       "array([[16,  0,  0],\n",
       "       [ 0, 12,  1],\n",
       "       [ 0,  0, 12]], dtype=int64)"
      ]
     },
     "execution_count": 45,
     "metadata": {},
     "output_type": "execute_result"
    }
   ],
   "source": [
    "confusion_matrix(y_test,y_pred)"
   ]
  },
  {
   "cell_type": "markdown",
   "id": "7a61f3cd",
   "metadata": {},
   "source": [
    "Random Forest Classifier Algorithm"
   ]
  },
  {
   "cell_type": "code",
   "execution_count": 47,
   "id": "ed975390",
   "metadata": {},
   "outputs": [],
   "source": [
    "from sklearn.ensemble import RandomForestClassifier\n",
    "rf = RandomForestClassifier()\n",
    "rf.fit(x_train,y_train)\n",
    "y_pred = rf.predict(x_test)"
   ]
  },
  {
   "cell_type": "code",
   "execution_count": 48,
   "id": "1b033db4",
   "metadata": {},
   "outputs": [
    {
     "name": "stdout",
     "output_type": "stream",
     "text": [
      "Accuracy is:  0.975609756097561\n",
      "Precision is:  0.975609756097561\n",
      "Recall is:  0.975609756097561\n",
      "F1 score is:  0.975609756097561\n"
     ]
    }
   ],
   "source": [
    "print(\"Accuracy is: \", accuracy_score(y_test,y_pred))\n",
    "print(\"Precision is: \", precision_score(y_test,y_pred,  average = 'micro'))\n",
    "print(\"Recall is: \", recall_score(y_test,y_pred,  average = 'micro'))\n",
    "print(\"F1 score is: \", f1_score(y_test,y_pred, average = 'micro'))"
   ]
  },
  {
   "cell_type": "code",
   "execution_count": 49,
   "id": "273b6885",
   "metadata": {},
   "outputs": [
    {
     "data": {
      "text/plain": [
       "array([[16,  0,  0],\n",
       "       [ 0, 12,  1],\n",
       "       [ 0,  0, 12]], dtype=int64)"
      ]
     },
     "execution_count": 49,
     "metadata": {},
     "output_type": "execute_result"
    }
   ],
   "source": [
    "confusion_matrix (y_test, y_pred)"
   ]
  },
  {
   "cell_type": "code",
   "execution_count": null,
   "id": "0c162a30",
   "metadata": {},
   "outputs": [],
   "source": []
  }
 ],
 "metadata": {
  "kernelspec": {
   "display_name": "Python 3",
   "language": "python",
   "name": "python3"
  },
  "language_info": {
   "codemirror_mode": {
    "name": "ipython",
    "version": 3
   },
   "file_extension": ".py",
   "mimetype": "text/x-python",
   "name": "python",
   "nbconvert_exporter": "python",
   "pygments_lexer": "ipython3",
   "version": "3.8.8"
  }
 },
 "nbformat": 4,
 "nbformat_minor": 5
}
